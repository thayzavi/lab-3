{
 "cells": [
  {
   "cell_type": "code",
   "execution_count": 1,
   "metadata": {},
   "outputs": [
    {
     "name": "stdout",
     "output_type": "stream",
     "text": [
      "Voce vai pagar 1015.0 reais\n"
     ]
    }
   ],
   "source": [
    "\n",
    "ano= int(input('Qual o ano do seu carro?'))\n",
    "valor=  float(input('qual o preço do seu carro?'))\n",
    "#carros de antes de 1990\n",
    "if ano < 1990:\n",
    "    taxa= (1/100 * valor)\n",
    "    valor= valor + taxa\n",
    "    print ('Voce vai pagar', valor ,'reais')\n",
    "#carros depois de 1990\n",
    "else:\n",
    "    taxa= (1.5/100 * valor)\n",
    "    valor= valor + taxa\n",
    "    print ('Voce vai pagar', valor, 'reais')"
   ]
  },
  {
   "cell_type": "code",
   "execution_count": 2,
   "metadata": {},
   "outputs": [
    {
     "name": "stdout",
     "output_type": "stream",
     "text": [
      "Seu salario antigo era 20000.0 Seu novo salario é 28000.0 A diferença é 8000.0 reais\n"
     ]
    }
   ],
   "source": [
    "cargo= int(input('Diga o codigo do seu cargo:'))\n",
    "salario = float(input('Qual o seu salario atual?'))\n",
    "if (cargo == 101): \n",
    "    novo = salario + (10/100 * salario)\n",
    "    diferenca = novo - salario\n",
    "    print('Seu salario antigo era', salario, 'Seu novo salario é', novo, 'A diferença é', diferenca, 'reais')\n",
    "    #salario do gerente\n",
    "    #gerente teve aumento de 10%\n",
    "elif (cargo == 102):\n",
    "    novo = salario + (20/100 * salario)\n",
    "    diferencia = novo - salario\n",
    "    print('Seu salario antigo era', salario, 'Seu novo salario é', novo, 'A diferença é', diferenca, 'reais')\n",
    "#salario do engenheiro\n",
    "#engenheiro teve aumento de 20%\n",
    "elif (cargo == 103):\n",
    "    novo = salario + (30/100 * salario)\n",
    "    diferenca = novo - salario\n",
    "    print('Seu salario antigo era', salario, 'Seu novo salario é', novo, 'A diferença é', diferenca, 'reais')\n",
    "#salario do tecnico\n",
    "#tecnico teve aumento de 30%\n",
    "else:\n",
    "    novo = salario + (40/100 * salario)\n",
    "    diferenca = novo - salario\n",
    "    print('Seu salario antigo era', salario, 'Seu novo salario é', novo, 'A diferença é', diferenca, 'reais')\n",
    "#salario de quem não é gerente, engenheiro ou tecnico\n",
    "#outros tiveram aumento de 40%"
   ]
  }
 ],
 "metadata": {
  "kernelspec": {
   "display_name": "Python 3",
   "language": "python",
   "name": "python3"
  },
  "language_info": {
   "codemirror_mode": {
    "name": "ipython",
    "version": 3
   },
   "file_extension": ".py",
   "mimetype": "text/x-python",
   "name": "python",
   "nbconvert_exporter": "python",
   "pygments_lexer": "ipython3",
   "version": "3.11.9"
  }
 },
 "nbformat": 4,
 "nbformat_minor": 2
}
