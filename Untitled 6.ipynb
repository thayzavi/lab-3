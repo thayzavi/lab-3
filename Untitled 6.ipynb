{
 "cells": [
  {
   "cell_type": "code",
   "execution_count": 1,
   "metadata": {},
   "outputs": [
    {
     "name": "stdout",
     "output_type": "stream",
     "text": [
      "Estamos no elemento 1\n",
      "Estamos no elemento 2\n",
      "Estamos no elemento 3\n",
      "Estamos no elemento 4\n",
      "Estamos no elemento 5\n",
      "Estamos no elemento 6\n"
     ]
    }
   ],
   "source": [
    "for elemento in [1, 2, 3, 4, 5, 6]:\n",
    "    print ('Estamos no elemento', elemento)\n"
   ]
  },
  {
   "cell_type": "code",
   "execution_count": 2,
   "metadata": {},
   "outputs": [
    {
     "name": "stdout",
     "output_type": "stream",
     "text": [
      "Estamos no elemnto S\n",
      "Estamos no elemnto T\n",
      "Estamos no elemnto R\n",
      "Estamos no elemnto I\n",
      "Estamos no elemnto N\n",
      "Estamos no elemnto G\n"
     ]
    }
   ],
   "source": [
    "for elemento in 'STRING':\n",
    "    print('Estamos no elemnto', elemento)\n",
    "#elemento "
   ]
  },
  {
   "cell_type": "code",
   "execution_count": 3,
   "metadata": {},
   "outputs": [
    {
     "name": "stdout",
     "output_type": "stream",
     "text": [
      "estamos no elemmento  0\n",
      "estamos no elemmento  1\n",
      "estamos no elemmento  2\n",
      "estamos no elemmento  3\n",
      "estamos no elemmento  4\n",
      "estamos no elemmento  5\n"
     ]
    }
   ],
   "source": [
    "for elemente in range (len('STRING')) :\n",
    "    print('estamos no elemmento ', elemente)"
   ]
  },
  {
   "cell_type": "code",
   "execution_count": 13,
   "metadata": {},
   "outputs": [],
   "source": [
    "produto = 0\n",
    "while produto < 4:\n",
    "    p= str(input('Digite o nome do produto: '))\n",
    "    v = float(input('Digite o valor do produto: '))\n",
    "    produto += \n"
   ]
  },
  {
   "cell_type": "code",
   "execution_count": 27,
   "metadata": {},
   "outputs": [],
   "source": [
    "elemento = 0"
   ]
  },
  {
   "cell_type": "code",
   "execution_count": 29,
   "metadata": {},
   "outputs": [
    {
     "name": "stdout",
     "output_type": "stream",
     "text": [
      "Estamos no elemnto 0\n",
      "Estamos no elemnto 1\n",
      "Estamos no elemnto 2\n",
      "Estamos no elemnto 3\n",
      "Estamos no elemnto 4\n",
      "Estamos no elemnto 5\n",
      "Estamos no elemnto 6\n"
     ]
    }
   ],
   "source": [
    "\n",
    "while elemento <= len ([1, 2, 3, 4, 5, 6]):\n",
    " print('Estamos no elemnto', elemento) #vai dar loop infinito\n",
    " elemento +=1"
   ]
  },
  {
   "cell_type": "code",
   "execution_count": 30,
   "metadata": {},
   "outputs": [
    {
     "name": "stdout",
     "output_type": "stream",
     "text": [
      "Estamos no elemento S\n",
      "Estamos no elemento T\n",
      "Estamos no elemento R\n",
      "Estamos no elemento I\n",
      "Estamos no elemento N\n",
      "Estamos no elemento G\n"
     ]
    }
   ],
   "source": [
    "s = 'STRING'\n",
    "indice = 0 \n",
    "while indice in range (len (s)):\n",
    "    print ('Estamos no elemento', s[indice])\n",
    "    indice +=1 "
   ]
  },
  {
   "cell_type": "code",
   "execution_count": 32,
   "metadata": {},
   "outputs": [
    {
     "name": "stdout",
     "output_type": "stream",
     "text": [
      "0 t\n",
      "1 r\n",
      "2 a\n",
      "3 n\n",
      "4 q\n",
      "5 u\n",
      "6 i\n",
      "7 l\n",
      "8 o\n"
     ]
    }
   ],
   "source": [
    "palavra='tranquilo'\n",
    "for indice, letra in enumerate(palavra):\n",
    "    print (indice, letra)"
   ]
  },
  {
   "cell_type": "code",
   "execution_count": 35,
   "metadata": {},
   "outputs": [
    {
     "name": "stdout",
     "output_type": "stream",
     "text": [
      "tipo:  <class 'enumerate'>\n",
      "[(0, 'eat'), (1, 'sleep'), (2, 'repeat')]\n"
     ]
    }
   ],
   "source": [
    "lista=['eat', 'sleep', 'repeat']\n",
    "palavra='geek'\n",
    "\n",
    "objeto1= enumerate (lista)\n",
    "objeto2= enumerate (palavra)\n",
    "\n",
    "print('tipo: ', type(objeto1))\n",
    "print(list(enumerate(lista)))"
   ]
  },
  {
   "cell_type": "code",
   "execution_count": 36,
   "metadata": {},
   "outputs": [
    {
     "name": "stdout",
     "output_type": "stream",
     "text": [
      "[(2, 'g'), (3, 'e'), (4, 'e'), (5, 'k')]\n"
     ]
    }
   ],
   "source": [
    "print(list(enumerate(palavra,2 )))"
   ]
  },
  {
   "cell_type": "code",
   "execution_count": 37,
   "metadata": {},
   "outputs": [
    {
     "name": "stdout",
     "output_type": "stream",
     "text": [
      "oi\n",
      "oi\n",
      "oi\n",
      "oi\n",
      "oi\n",
      "oi\n",
      "oi\n",
      "oi\n",
      "oi\n",
      "oi\n",
      "oi\n",
      "oi\n",
      "oi\n"
     ]
    }
   ],
   "source": [
    "s ='viva o python'\n",
    "for ch in s:\n",
    "    print('oi')"
   ]
  },
  {
   "cell_type": "code",
   "execution_count": 38,
   "metadata": {},
   "outputs": [
    {
     "name": "stdout",
     "output_type": "stream",
     "text": [
      "oi\n",
      "oi\n",
      "oi\n",
      "oi\n",
      "oi\n"
     ]
    }
   ],
   "source": [
    "s = 'viva o python'\n",
    "for ch in s [3:8]:\n",
    "    print('oi')"
   ]
  },
  {
   "cell_type": "code",
   "execution_count": 47,
   "metadata": {},
   "outputs": [
    {
     "name": "stdout",
     "output_type": "stream",
     "text": [
      "Tem 1 Numeros pares \n",
      "Tem 1 Numeros impares \n"
     ]
    }
   ],
   "source": [
    "pares = 0\n",
    "impares = 0\n",
    "for indice in range (10):\n",
    "    numero= int (input('Digite os numero inteiros '))\n",
    "    if numero % 2 == 0 :\n",
    "      pares =+ 1\n",
    "else: impares += 1\n",
    "print('Tem', pares, 'Numeros pares ' )\n",
    "print ('Tem', pares, 'Numeros impares ')\n",
    "numero += 1\n"
   ]
  }
 ],
 "metadata": {
  "kernelspec": {
   "display_name": "Python 3",
   "language": "python",
   "name": "python3"
  },
  "language_info": {
   "codemirror_mode": {
    "name": "ipython",
    "version": 3
   },
   "file_extension": ".py",
   "mimetype": "text/x-python",
   "name": "python",
   "nbconvert_exporter": "python",
   "pygments_lexer": "ipython3",
   "version": "3.11.9"
  }
 },
 "nbformat": 4,
 "nbformat_minor": 2
}
