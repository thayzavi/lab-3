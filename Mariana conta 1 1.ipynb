{
 "cells": [
  {
   "cell_type": "code",
   "execution_count": 16,
   "metadata": {},
   "outputs": [
    {
     "name": "stdout",
     "output_type": "stream",
     "text": [
      "'5' patinho foram passear alem da mantnhas para brinca a mamae gritou qua, qua, qua: mais so 4 patinhos voltaram de lá\n",
      "'4' patinho foram passear alem da mantnhas para brinca a mamae gritou qua, qua, qua: mais so 3 patinhos voltaram de lá\n",
      "'3' patinho foram passear alem da mantnhas para brinca a mamae gritou qua, qua, qua: mais so 2 patinhos voltaram de lá\n",
      "'2' patinho foram passear alem da mantnhas para brinca a mamae gritou qua, qua, qua: mais so 1 patinhos voltaram de lá\n",
      "'1' patinho foram passear alem da mantnhas para brinca a mamae gritou qua, qua, qua: mais so 0 patinhos voltaram de lá\n"
     ]
    }
   ],
   "source": [
    "for patinhos in (5, 4, 3, 2, 1):\n",
    "   print(f\"'{patinhos}' patinho foram passear alem da mantnhas para brinca a mamae gritou qua, qua, qua: mais so {patinhos-1} patinhos voltaram de lá\")"
   ]
  },
  {
   "cell_type": "code",
   "execution_count": 26,
   "metadata": {},
   "outputs": [
    {
     "name": "stdout",
     "output_type": "stream",
     "text": [
      "1 elefante incomoda muita gente\n",
      "2 elefantes incomodam incomodam  muito mais!\n",
      "3 elefantes incomodam muita gente\n",
      "4 elefantes incomodam incomodam incomodam incomodam  muito mais!\n",
      "5 elefantes incomodam muita gente\n",
      "6 elefantes incomodam incomodam incomodam incomodam incomodam incomodam  muito mais!\n",
      "7 elefantes incomodam muita gente\n",
      "8 elefantes incomodam incomodam incomodam incomodam incomodam incomodam incomodam incomodam  muito mais!\n",
      "9 elefantes incomodam muita gente\n",
      "10 elefantes incomodam incomodam incomodam incomodam incomodam incomodam incomodam incomodam incomodam incomodam  muito mais!\n"
     ]
    }
   ],
   "source": [
    "for elefante in [1, 2, 3, 4, 5, 6, 7, 8, 9, 10]:\n",
    "    palavraincomondam = 'incomodam ' * elefante\n",
    "    if elefante == 1:\n",
    "        print(elefante,'elefante incomoda muita gente')\n",
    "    elif elefante %2 == 0 :\n",
    "        print (elefante,'elefantes', palavraincomondam,'muito mais!')\n",
    "    else:\n",
    "        print(elefante,'elefantes incomodam muita gente' )"
   ]
  },
  {
   "cell_type": "code",
   "execution_count": 42,
   "metadata": {},
   "outputs": [
    {
     "name": "stdout",
     "output_type": "stream",
     "text": [
      "10 elefantes incomodam muita gente\n",
      "9 incomodam incomodam incomodam incomodam incomodam incomodam incomodam incomodam incomodam incomodam  muito memos\n",
      "8 elefantes incomodam muita gente\n",
      "7 incomodam incomodam incomodam incomodam incomodam incomodam incomodam incomodam  muito memos\n",
      "6 elefantes incomodam muita gente\n",
      "5 incomodam incomodam incomodam incomodam incomodam incomodam  muito memos\n",
      "4 elefantes incomodam muita gente\n",
      "3 incomodam incomodam incomodam incomodam  muito memos\n",
      "2 elefantes incomodam muita gente\n",
      "1 elefante incomoda muito menos\n"
     ]
    }
   ],
   "source": [
    "for elefante in [10,9,8,7,6,5,4,3,2,1]:\n",
    " repete = \"incomodam \"\n",
    " if elefante %2 ==0:\n",
    "  print(elefante, \"elefantes incomodam muita gente\")\n",
    " elif elefante ==1:\n",
    "  print(elefante, \"elefante incomoda muito menos\")\n",
    " else:\n",
    "  print(elefante, \"incomodam\", repete * elefante, \"muito memos\")"
   ]
  },
  {
   "cell_type": "code",
   "execution_count": 1,
   "metadata": {},
   "outputs": [
    {
     "name": "stdout",
     "output_type": "stream",
     "text": [
      "Mariana conta 1 Mariana conta 1 é 1 é 1 é Ana viva Mariana viva Mariana\n",
      "Mariana conta 2 Mariana conta 2 é [1, 2] é Ana viva Mariana viva Mariana\n",
      "Mariana conta 3 Mariana conta 3 é [1, 2, 3] é Ana viva Mariana viva Mariana\n",
      "Mariana conta 4 Mariana conta 4 é [1, 2, 3, 4] é Ana viva Mariana viva Mariana\n",
      "Mariana conta 5 Mariana conta 5 é [1, 2, 3, 4, 5] é Ana viva Mariana viva Mariana\n",
      "Mariana conta 6 Mariana conta 6 é [1, 2, 3, 4, 5, 6] é Ana viva Mariana viva Mariana\n",
      "Mariana conta 7 Mariana conta 7 é [1, 2, 3, 4, 5, 6, 7] é Ana viva Mariana viva Mariana\n",
      "Mariana conta 8 Mariana conta 8 é [1, 2, 3, 4, 5, 6, 7, 8] é Ana viva Mariana viva Mariana\n",
      "Mariana conta 9 Mariana conta 9 é [1, 2, 3, 4, 5, 6, 7, 8, 9] é Ana viva Mariana viva Mariana\n",
      "Mariana conta 10 Mariana conta 10 é [1, 2, 3, 4, 5, 6, 7, 8, 9, 10] é Ana viva Mariana viva Mariana\n"
     ]
    }
   ],
   "source": [
    "#Mariana\n",
    "mariana = [1,2,3,4,5,6,7,8,9,10]\n",
    "numero = 1\n",
    "for numero in mariana:\n",
    " if numero == 1:\n",
    "      print(\"Mariana conta\",numero,\"Mariana conta\",numero,\"é\",numero,\"é\",numero,\"é Ana viva Mariana viva Mariana\")\n",
    " else:\n",
    "  print(\"Mariana conta\",numero,\"Mariana conta\",numero,\"é\",mariana[0:numero],\"é Ana viva Mariana viva Mariana\")    "
   ]
  },
  {
   "cell_type": "code",
   "execution_count": 12,
   "metadata": {},
   "outputs": [
    {
     "name": "stdout",
     "output_type": "stream",
     "text": [
      "Não terminei de lutar \n",
      "Eu não sinto que perdi\n",
      "Será que estou sonhando?\n",
      "Estou sentindo\n",
      "\n",
      "Nome da música :Estou Sonhando? (part. A$AP Rocky e Roisee)\n"
     ]
    }
   ],
   "source": [
    "#música escolhida por mim\n",
    "# Definindo as partes da música\n",
    "verso1 = \"Não terminei de lutar \\n\"\n",
    "verso2 = \"Eu não sinto que perdi\\n\"\n",
    "verso3 = \"Será que estou sonhando?\\n\"\n",
    "refrão = \"Estou sentindo\\n\"\n",
    "\n",
    "# Construindo a música\n",
    "musica = (verso1 + verso2 + verso3) * 1 + refrão\n",
    "\n",
    "# Imprimindo a música\n",
    "print(musica)\n",
    "print(\"Nome da música :Estou Sonhando? (part. A$AP Rocky e Roisee)\")\n"
   ]
  }
 ],
 "metadata": {
  "kernelspec": {
   "display_name": "Python 3",
   "language": "python",
   "name": "python3"
  },
  "language_info": {
   "codemirror_mode": {
    "name": "ipython",
    "version": 3
   },
   "file_extension": ".py",
   "mimetype": "text/x-python",
   "name": "python",
   "nbconvert_exporter": "python",
   "pygments_lexer": "ipython3",
   "version": "3.12.3"
  }
 },
 "nbformat": 4,
 "nbformat_minor": 2
}
